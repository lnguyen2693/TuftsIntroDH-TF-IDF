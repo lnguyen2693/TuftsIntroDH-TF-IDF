{
 "cells": [
  {
   "cell_type": "code",
   "execution_count": 2,
   "metadata": {},
   "outputs": [
    {
     "name": "stdout",
     "output_type": "stream",
     "text": [
      "Requirement already satisfied: lxml in /home/codespace/.python/current/lib/python3.12/site-packages (5.3.1)\n",
      "Note: you may need to restart the kernel to use updated packages.\n"
     ]
    }
   ],
   "source": [
    "%pip install lxml"
   ]
  },
  {
   "cell_type": "code",
   "execution_count": 3,
   "metadata": {},
   "outputs": [],
   "source": [
    "from lxml import etree\n",
    "from pathlib import Path"
   ]
  },
  {
   "cell_type": "code",
   "execution_count": 4,
   "metadata": {},
   "outputs": [],
   "source": [
    "files = list(Path(\"tlg0012\").glob(\"./**/*perseus-eng*.xml\"))"
   ]
  },
  {
   "cell_type": "code",
   "execution_count": 5,
   "metadata": {},
   "outputs": [],
   "source": [
    "TEI_NS = \"http://www.tei-c.org/ns/1.0\"\n",
    "XML_NS = \"http://www.w3.org/XML/1998/namespace\"\n",
    "\n",
    "NAMESPACES = {\n",
    "    \"tei\": TEI_NS,\n",
    "    \"xml\": XML_NS,\n",
    "}"
   ]
  },
  {
   "cell_type": "code",
   "execution_count": 6,
   "metadata": {},
   "outputs": [
    {
     "name": "stdout",
     "output_type": "stream",
     "text": [
      "tlg0012/tlg002/tlg0012.tlg002.perseus-eng3.xml\n"
     ]
    },
    {
     "name": "stdout",
     "output_type": "stream",
     "text": [
      "tlg0012/tlg002/tlg0012.tlg002.perseus-eng4.xml\n",
      "tlg0012/tlg001/tlg0012.tlg001.perseus-eng3.xml\n",
      "tlg0012/tlg001/tlg0012.tlg001.perseus-eng4.xml\n",
      "tlg0012/tlg003/tlg0012.tlg003.perseus-eng1.xml\n"
     ]
    }
   ],
   "source": [
    "for file in files:\n",
    "    print(file)\n",
    "    tree = etree.parse(file)\n",
    "    text = tree.xpath(f\"//tei:div[@subtype='card']//text()\", namespaces=NAMESPACES)\n",
    "    \n",
    "    cleaned_text = []\n",
    "    for t in text:\n",
    "        if t.strip() != \"\":\n",
    "            cleaned_text.append(t)\n",
    "\n",
    "    if len(cleaned_text) > 0:\n",
    "        with open(str(file).split(\"/\")[-1].replace(\".xml\", \".txt\"), \"w+\") as f:\n",
    "            f.write('\\n'.join(cleaned_text))\n",
    "    "
   ]
  },
  {
   "cell_type": "code",
   "execution_count": 23,
   "metadata": {},
   "outputs": [
    {
     "name": "stdout",
     "output_type": "stream",
     "text": [
      "185\n",
      "141\n",
      "178\n",
      "168\n"
     ]
    }
   ],
   "source": [
    "from collections import Counter\n",
    "\n",
    "text_files = list(Path(\".\").glob(\"tlg0012.tlg00*.perseus-eng*.txt\"))\n",
    "\n",
    "counts = {}\n",
    "\n",
    "for t in text_files:\n",
    "    name = str(t)\n",
    "\n",
    "    with open(t) as f:\n",
    "        text = f.read().lower().split()\n",
    "        counts[name] = Counter(text)\n",
    "    print(counts[name]['gods'])"
   ]
  },
  {
   "cell_type": "code",
   "execution_count": 24,
   "metadata": {},
   "outputs": [
    {
     "data": {
      "text/plain": [
       "4"
      ]
     },
     "execution_count": 24,
     "metadata": {},
     "output_type": "execute_result"
    }
   ],
   "source": [
    "term = 'gods'\n",
    "\n",
    "df_ulysses = 0\n",
    "\n",
    "for _, els in counts.items():\n",
    "    if term in els:\n",
    "        df_ulysses += 1\n",
    "\n",
    "df_ulysses"
   ]
  },
  {
   "cell_type": "markdown",
   "metadata": {},
   "source": [
    "Notes when completing the assignment:\n",
    "1. Review TF-IDF and understand the code:\n",
    "- Re-inspect the code with: <br>\n",
    "    `print(counts)` <br>\n",
    "    `print(counts[name]['odysseus'])` <br>\n",
    "    change other term <br>\n",
    "    --> Figure out calculating TF-IDF score for a term\n",
    "\n",
    "2. When calculating tf-idf score, I receive a negative score for `tf_idf_ulysses`. I was confused because I assumed that was impossible. I revisited the code I wrote for calculating IDF score, and I realize I added 1 to `df_ulysses` to prevent division by 0, but that means when `df_ulysses` = the # of docs, `# docs / (df_ulysses + 1)` < 1, which causes `idf_ulysses` to be negative. I re-read about TF-IDF [here](https://www.learndatasci.com/glossary/tf-idf-term-frequency-inverse-document-frequency/) to make sure the correct formula does add 1 into `df_ulysses` when calculating `idf_ulysses`. Though the link mentions that the formula can contain adding one into the denominator, which means I can keep the `+ 1` in calculating `idf_ulysses`, I decided to remove it as the example in the link doesn't show them adding one into the denominator.\n",
    "\n",
    "3. I ran the code to calculate TF-IDF of these term:\n",
    "\n",
    "- hector:\n",
    "\n",
    "| TF | IDF | TF-IDF |\n",
    "| --- | ---- | ------- |\n",
    "| 0.0015694050991501417 | 0.6020599913279624 | 0.0009448760203843942\n",
    "| 0.0 | 0.6020599913279624 | 0.0\n",
    "| 0.0 | 0.6020599913279624 | 0.0\n",
    "| 0.0 | 0.6020599913279624 | 0.0\n",
    "\n",
    "Have a high TF-IDF in documents related to The Iliad but not in The Odyssey\n",
    "\n",
    "- trojans:\n",
    "\n",
    "| TF | IDF | TF-IDF |\n",
    "| --- | ---- | ------- |\n",
    "| 0.0019886685552407933 | 0.0 | 0.0\n",
    "| 8.359945827551038e-05 | 0.0 | 0.0\n",
    "| 0.0022201973793970816 | 0.0 | 0.0\n",
    "| 9.012730481805551e-05 | 0.0 | 0.0\n",
    "\n",
    "Have TF-IDF score = 0 since the term appears in all 4 documents. However, we can observe that this term appears more in the second and the third ones\n",
    "\n",
    "- gods:\n",
    "\n",
    "| TF | IDF | TF-IDF |\n",
    "| --- | ---- | ------- |\n",
    "| 0.0010481586402266289 | 0.0 | 0.0\n",
    "| 0.0011787523616846962 | 0.0 | 0.0\n",
    "| 0.0011421824668574581 | 0.0 | 0.0\n",
    "| 0.001261782267452777 | 0.0 | 0.0\n",
    "\n",
    "This term might appear frequently across all documents\n"
   ]
  },
  {
   "cell_type": "code",
   "execution_count": 25,
   "metadata": {},
   "outputs": [
    {
     "name": "stdout",
     "output_type": "stream",
     "text": [
      "4 4\n",
      "0.0010481586402266289 0.0 0.0\n",
      "0.0011787523616846962 0.0 0.0\n",
      "0.0011421824668574581 0.0 0.0\n",
      "0.001261782267452777 0.0 0.0\n"
     ]
    }
   ],
   "source": [
    "import numpy as np\n",
    "\n",
    "# Calculate IDF score for 'term'\n",
    "idf_ulysses = np.log10(len(counts) / df_ulysses)\n",
    "print(len(counts), df_ulysses)\n",
    "\n",
    "# Calculate TF-IDF score for 'term' in each document\n",
    "tf_idf_ulysses = {}\n",
    "\n",
    "for doc in counts:\n",
    "    words = counts[doc]\n",
    "    tf_score = words[term] / sum(words.values())\n",
    "    tf_idf_score = tf_score * idf_ulysses\n",
    "    print(tf_score, idf_ulysses, tf_idf_score)"
   ]
  }
 ],
 "metadata": {
  "kernelspec": {
   "display_name": "Python 3",
   "language": "python",
   "name": "python3"
  },
  "language_info": {
   "codemirror_mode": {
    "name": "ipython",
    "version": 3
   },
   "file_extension": ".py",
   "mimetype": "text/x-python",
   "name": "python",
   "nbconvert_exporter": "python",
   "pygments_lexer": "ipython3",
   "version": "3.12.1"
  }
 },
 "nbformat": 4,
 "nbformat_minor": 2
}
